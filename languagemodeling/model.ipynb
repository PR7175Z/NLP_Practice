{
 "cells": [
  {
   "cell_type": "code",
   "execution_count": 16,
   "id": "7d48c415",
   "metadata": {},
   "outputs": [],
   "source": [
    "import numpy as np\n",
    "import pandas as pd\n",
    "import matplotlib.pyplot as plt\n",
    "import torch"
   ]
  },
  {
   "cell_type": "code",
   "execution_count": 2,
   "id": "8b29b464",
   "metadata": {},
   "outputs": [
    {
     "name": "stderr",
     "output_type": "stream",
     "text": [
      "/run/media/aadimprajapati/New Volume/fnclick/python/nlp/languagemodeling/env/lib/python3.12/site-packages/torchtext/data/__init__.py:4: UserWarning: \n",
      "/!\\ IMPORTANT WARNING ABOUT TORCHTEXT STATUS /!\\ \n",
      "Torchtext is deprecated and the last released version will be 0.18 (this one). You can silence this warning by calling the following at the beginnign of your scripts: `import torchtext; torchtext.disable_torchtext_deprecation_warning()`\n",
      "  warnings.warn(torchtext._TORCHTEXT_DEPRECATION_MSG)\n",
      "/run/media/aadimprajapati/New Volume/fnclick/python/nlp/languagemodeling/env/lib/python3.12/site-packages/torchtext/vocab/__init__.py:4: UserWarning: \n",
      "/!\\ IMPORTANT WARNING ABOUT TORCHTEXT STATUS /!\\ \n",
      "Torchtext is deprecated and the last released version will be 0.18 (this one). You can silence this warning by calling the following at the beginnign of your scripts: `import torchtext; torchtext.disable_torchtext_deprecation_warning()`\n",
      "  warnings.warn(torchtext._TORCHTEXT_DEPRECATION_MSG)\n",
      "/run/media/aadimprajapati/New Volume/fnclick/python/nlp/languagemodeling/env/lib/python3.12/site-packages/torchtext/utils.py:4: UserWarning: \n",
      "/!\\ IMPORTANT WARNING ABOUT TORCHTEXT STATUS /!\\ \n",
      "Torchtext is deprecated and the last released version will be 0.18 (this one). You can silence this warning by calling the following at the beginnign of your scripts: `import torchtext; torchtext.disable_torchtext_deprecation_warning()`\n",
      "  warnings.warn(torchtext._TORCHTEXT_DEPRECATION_MSG)\n"
     ]
    }
   ],
   "source": [
    "from torchtext.data.utils import get_tokenizer\n",
    "from torchtext.vocab import build_vocab_from_iterator"
   ]
  },
  {
   "cell_type": "code",
   "execution_count": 11,
   "id": "6767bfbf",
   "metadata": {},
   "outputs": [],
   "source": [
    "from sklearn.model_selection import train_test_split"
   ]
  },
  {
   "cell_type": "code",
   "execution_count": 3,
   "id": "6b1901b7",
   "metadata": {},
   "outputs": [],
   "source": [
    "with open('data/paragraphs.txt', 'r') as file:\n",
    "    para = file.read()"
   ]
  },
  {
   "cell_type": "code",
   "execution_count": 4,
   "id": "84510626",
   "metadata": {},
   "outputs": [],
   "source": [
    "paragraphs = [x for x in para.split('\\n')]"
   ]
  },
  {
   "cell_type": "code",
   "execution_count": 12,
   "id": "c3fa6ed2",
   "metadata": {},
   "outputs": [],
   "source": [
    "xtrain, xtest = train_test_split(paragraphs, test_size=0.2, random_state=42)"
   ]
  },
  {
   "cell_type": "code",
   "execution_count": 5,
   "id": "dd091be4",
   "metadata": {},
   "outputs": [],
   "source": [
    "tokenizer = get_tokenizer('basic_english')\n",
    "\n",
    "def get_tokens(paragraphs):\n",
    "    for x in paragraphs:\n",
    "        yield tokenizer(x)"
   ]
  },
  {
   "cell_type": "code",
   "execution_count": 13,
   "id": "ae2cd902",
   "metadata": {},
   "outputs": [],
   "source": [
    "tokens = get_tokens(xtrain)"
   ]
  },
  {
   "cell_type": "code",
   "execution_count": 14,
   "id": "42615f4b",
   "metadata": {},
   "outputs": [],
   "source": [
    "vocab = build_vocab_from_iterator(tokens, specials=['<unk>'])"
   ]
  },
  {
   "cell_type": "code",
   "execution_count": 15,
   "id": "c6a9a3d1",
   "metadata": {},
   "outputs": [],
   "source": [
    "vocab.set_default_index(vocab['<unk>'])"
   ]
  },
  {
   "cell_type": "code",
   "execution_count": null,
   "id": "a39ba28b",
   "metadata": {},
   "outputs": [],
   "source": [
    "data = [torch.tensor(vocab(tokenizer(item)), dtype=torch.long) for item in xtrain]"
   ]
  }
 ],
 "metadata": {
  "kernelspec": {
   "display_name": "env",
   "language": "python",
   "name": "python3"
  },
  "language_info": {
   "codemirror_mode": {
    "name": "ipython",
    "version": 3
   },
   "file_extension": ".py",
   "mimetype": "text/x-python",
   "name": "python",
   "nbconvert_exporter": "python",
   "pygments_lexer": "ipython3",
   "version": "3.12.10"
  }
 },
 "nbformat": 4,
 "nbformat_minor": 5
}
