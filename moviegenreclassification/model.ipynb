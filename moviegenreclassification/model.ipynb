{
 "cells": [
  {
   "cell_type": "code",
   "execution_count": 1,
   "id": "811d9b81",
   "metadata": {},
   "outputs": [
    {
     "name": "stdout",
     "output_type": "stream",
     "text": [
      "Collecting numpy\n",
      "  Obtaining dependency information for numpy from https://files.pythonhosted.org/packages/46/69/8c4f928741c2a8efa255fdc7e9097527c6dc4e4df147e3cadc5d9357ce85/numpy-2.2.4-cp312-cp312-win_amd64.whl.metadata\n",
      "  Using cached numpy-2.2.4-cp312-cp312-win_amd64.whl.metadata (60 kB)\n",
      "Using cached numpy-2.2.4-cp312-cp312-win_amd64.whl (12.6 MB)\n",
      "Installing collected packages: numpy\n",
      "Successfully installed numpy-2.2.4\n"
     ]
    },
    {
     "name": "stderr",
     "output_type": "stream",
     "text": [
      "\n",
      "[notice] A new release of pip is available: 23.2.1 -> 25.0.1\n",
      "[notice] To update, run: python.exe -m pip install --upgrade pip\n"
     ]
    },
    {
     "name": "stdout",
     "output_type": "stream",
     "text": [
      "Collecting pandas\n",
      "  Obtaining dependency information for pandas from https://files.pythonhosted.org/packages/29/d4/1244ab8edf173a10fd601f7e13b9566c1b525c4f365d6bee918e68381889/pandas-2.2.3-cp312-cp312-win_amd64.whl.metadata\n",
      "  Using cached pandas-2.2.3-cp312-cp312-win_amd64.whl.metadata (19 kB)\n",
      "Requirement already satisfied: numpy>=1.26.0 in .\\env\\lib\\site-packages (from pandas) (2.2.4)\n",
      "Requirement already satisfied: python-dateutil>=2.8.2 in .\\env\\lib\\site-packages (from pandas) (2.9.0.post0)\n",
      "Collecting pytz>=2020.1 (from pandas)\n",
      "  Obtaining dependency information for pytz>=2020.1 from https://files.pythonhosted.org/packages/81/c4/34e93fe5f5429d7570ec1fa436f1986fb1f00c3e0f43a589fe2bbcd22c3f/pytz-2025.2-py2.py3-none-any.whl.metadata\n",
      "  Using cached pytz-2025.2-py2.py3-none-any.whl.metadata (22 kB)\n",
      "Collecting tzdata>=2022.7 (from pandas)\n",
      "  Obtaining dependency information for tzdata>=2022.7 from https://files.pythonhosted.org/packages/5c/23/c7abc0ca0a1526a0774eca151daeb8de62ec457e77262b66b359c3c7679e/tzdata-2025.2-py2.py3-none-any.whl.metadata\n",
      "  Using cached tzdata-2025.2-py2.py3-none-any.whl.metadata (1.4 kB)\n",
      "Requirement already satisfied: six>=1.5 in .\\env\\lib\\site-packages (from python-dateutil>=2.8.2->pandas) (1.17.0)\n",
      "Using cached pandas-2.2.3-cp312-cp312-win_amd64.whl (11.5 MB)\n",
      "Using cached pytz-2025.2-py2.py3-none-any.whl (509 kB)\n",
      "Using cached tzdata-2025.2-py2.py3-none-any.whl (347 kB)\n",
      "Installing collected packages: pytz, tzdata, pandas\n",
      "Successfully installed pandas-2.2.3 pytz-2025.2 tzdata-2025.2\n"
     ]
    },
    {
     "name": "stderr",
     "output_type": "stream",
     "text": [
      "\n",
      "[notice] A new release of pip is available: 23.2.1 -> 25.0.1\n",
      "[notice] To update, run: python.exe -m pip install --upgrade pip\n"
     ]
    },
    {
     "name": "stdout",
     "output_type": "stream",
     "text": [
      "Collecting matplotlib\n",
      "  Obtaining dependency information for matplotlib from https://files.pythonhosted.org/packages/a6/b6/a9405484fb40746fdc6ae4502b16a9d6e53282ba5baaf9ebe2da579f68c4/matplotlib-3.10.1-cp312-cp312-win_amd64.whl.metadata\n",
      "  Using cached matplotlib-3.10.1-cp312-cp312-win_amd64.whl.metadata (11 kB)\n",
      "Collecting contourpy>=1.0.1 (from matplotlib)\n",
      "  Obtaining dependency information for contourpy>=1.0.1 from https://files.pythonhosted.org/packages/a1/35/c2de8823211d07e8a79ab018ef03960716c5dff6f4d5bff5af87fd682992/contourpy-1.3.1-cp312-cp312-win_amd64.whl.metadata\n",
      "  Using cached contourpy-1.3.1-cp312-cp312-win_amd64.whl.metadata (5.4 kB)\n",
      "Collecting cycler>=0.10 (from matplotlib)\n",
      "  Obtaining dependency information for cycler>=0.10 from https://files.pythonhosted.org/packages/e7/05/c19819d5e3d95294a6f5947fb9b9629efb316b96de511b418c53d245aae6/cycler-0.12.1-py3-none-any.whl.metadata\n",
      "  Using cached cycler-0.12.1-py3-none-any.whl.metadata (3.8 kB)\n",
      "Collecting fonttools>=4.22.0 (from matplotlib)\n",
      "  Obtaining dependency information for fonttools>=4.22.0 from https://files.pythonhosted.org/packages/06/5d/1be5424bb305880e1113631f49a55ea7c7da3a5fe02608ca7c16a03a21da/fonttools-4.57.0-cp312-cp312-win_amd64.whl.metadata\n",
      "  Using cached fonttools-4.57.0-cp312-cp312-win_amd64.whl.metadata (104 kB)\n",
      "Collecting kiwisolver>=1.3.1 (from matplotlib)\n",
      "  Obtaining dependency information for kiwisolver>=1.3.1 from https://files.pythonhosted.org/packages/bd/72/dfff0cc97f2a0776e1c9eb5bef1ddfd45f46246c6533b0191887a427bca5/kiwisolver-1.4.8-cp312-cp312-win_amd64.whl.metadata\n",
      "  Using cached kiwisolver-1.4.8-cp312-cp312-win_amd64.whl.metadata (6.3 kB)\n",
      "Requirement already satisfied: numpy>=1.23 in .\\env\\lib\\site-packages (from matplotlib) (2.2.4)\n",
      "Requirement already satisfied: packaging>=20.0 in .\\env\\lib\\site-packages (from matplotlib) (24.2)\n",
      "Collecting pillow>=8 (from matplotlib)\n",
      "  Obtaining dependency information for pillow>=8 from https://files.pythonhosted.org/packages/08/5c/2104299949b9d504baf3f4d35f73dbd14ef31bbd1ddc2c1b66a5b7dfda44/pillow-11.1.0-cp312-cp312-win_amd64.whl.metadata\n",
      "  Using cached pillow-11.1.0-cp312-cp312-win_amd64.whl.metadata (9.3 kB)\n",
      "Collecting pyparsing>=2.3.1 (from matplotlib)\n",
      "  Obtaining dependency information for pyparsing>=2.3.1 from https://files.pythonhosted.org/packages/05/e7/df2285f3d08fee213f2d041540fa4fc9ca6c2d44cf36d3a035bf2a8d2bcc/pyparsing-3.2.3-py3-none-any.whl.metadata\n",
      "  Using cached pyparsing-3.2.3-py3-none-any.whl.metadata (5.0 kB)\n",
      "Requirement already satisfied: python-dateutil>=2.7 in .\\env\\lib\\site-packages (from matplotlib) (2.9.0.post0)\n",
      "Requirement already satisfied: six>=1.5 in .\\env\\lib\\site-packages (from python-dateutil>=2.7->matplotlib) (1.17.0)\n",
      "Using cached matplotlib-3.10.1-cp312-cp312-win_amd64.whl (8.1 MB)\n",
      "Using cached contourpy-1.3.1-cp312-cp312-win_amd64.whl (220 kB)\n",
      "Using cached cycler-0.12.1-py3-none-any.whl (8.3 kB)\n",
      "Using cached fonttools-4.57.0-cp312-cp312-win_amd64.whl (2.2 MB)\n",
      "Using cached kiwisolver-1.4.8-cp312-cp312-win_amd64.whl (71 kB)\n",
      "Using cached pillow-11.1.0-cp312-cp312-win_amd64.whl (2.6 MB)\n",
      "Using cached pyparsing-3.2.3-py3-none-any.whl (111 kB)\n",
      "Installing collected packages: pyparsing, pillow, kiwisolver, fonttools, cycler, contourpy, matplotlib\n",
      "Successfully installed contourpy-1.3.1 cycler-0.12.1 fonttools-4.57.0 kiwisolver-1.4.8 matplotlib-3.10.1 pillow-11.1.0 pyparsing-3.2.3\n"
     ]
    },
    {
     "name": "stderr",
     "output_type": "stream",
     "text": [
      "\n",
      "[notice] A new release of pip is available: 23.2.1 -> 25.0.1\n",
      "[notice] To update, run: python.exe -m pip install --upgrade pip\n"
     ]
    }
   ],
   "source": [
    "! pip install numpy\n",
    "! pip install pandas\n",
    "! pip install matplotlib"
   ]
  },
  {
   "cell_type": "code",
   "execution_count": 2,
   "id": "495d6eeb",
   "metadata": {},
   "outputs": [
    {
     "name": "stdout",
     "output_type": "stream",
     "text": [
      "Requirement already satisfied: pip in .\\env\\lib\\site-packages (23.2.1)\n",
      "Collecting pip\n",
      "  Obtaining dependency information for pip from https://files.pythonhosted.org/packages/c9/bc/b7db44f5f39f9d0494071bddae6880eb645970366d0a200022a1a93d57f5/pip-25.0.1-py3-none-any.whl.metadata\n",
      "  Downloading pip-25.0.1-py3-none-any.whl.metadata (3.7 kB)\n",
      "Downloading pip-25.0.1-py3-none-any.whl (1.8 MB)\n",
      "   ---------------------------------------- 0.0/1.8 MB ? eta -:--:--\n",
      "   ---------------------------------------- 0.0/1.8 MB ? eta -:--:--\n",
      "    --------------------------------------- 0.0/1.8 MB 330.3 kB/s eta 0:00:06\n",
      "   - -------------------------------------- 0.1/1.8 MB 563.7 kB/s eta 0:00:04\n",
      "   ----- ---------------------------------- 0.2/1.8 MB 1.4 MB/s eta 0:00:02\n",
      "   --------------- ------------------------ 0.7/1.8 MB 3.5 MB/s eta 0:00:01\n",
      "   -------------------------------------- - 1.8/1.8 MB 7.1 MB/s eta 0:00:01\n",
      "   ---------------------------------------- 1.8/1.8 MB 7.3 MB/s eta 0:00:00\n",
      "Installing collected packages: pip\n",
      "  Attempting uninstall: pip\n",
      "    Found existing installation: pip 23.2.1\n",
      "    Uninstalling pip-23.2.1:\n",
      "      Successfully uninstalled pip-23.2.1\n",
      "Successfully installed pip-25.0.1\n"
     ]
    }
   ],
   "source": [
    "! python -m pip install --upgrade pip"
   ]
  },
  {
   "cell_type": "code",
   "execution_count": 3,
   "id": "caa133cf",
   "metadata": {},
   "outputs": [
    {
     "name": "stdout",
     "output_type": "stream",
     "text": [
      "Collecting scikit-learn\n",
      "  Downloading scikit_learn-1.6.1-cp312-cp312-win_amd64.whl.metadata (15 kB)\n",
      "Requirement already satisfied: numpy>=1.19.5 in .\\env\\lib\\site-packages (from scikit-learn) (2.2.4)\n",
      "Collecting scipy>=1.6.0 (from scikit-learn)\n",
      "  Downloading scipy-1.15.2-cp312-cp312-win_amd64.whl.metadata (60 kB)\n",
      "Collecting joblib>=1.2.0 (from scikit-learn)\n",
      "  Downloading joblib-1.4.2-py3-none-any.whl.metadata (5.4 kB)\n",
      "Collecting threadpoolctl>=3.1.0 (from scikit-learn)\n",
      "  Downloading threadpoolctl-3.6.0-py3-none-any.whl.metadata (13 kB)\n",
      "Downloading scikit_learn-1.6.1-cp312-cp312-win_amd64.whl (11.1 MB)\n",
      "   ---------------------------------------- 0.0/11.1 MB ? eta -:--:--\n",
      "   ------ --------------------------------- 1.8/11.1 MB 10.0 MB/s eta 0:00:01\n",
      "   ------------- -------------------------- 3.7/11.1 MB 9.9 MB/s eta 0:00:01\n",
      "   -------------------- ------------------- 5.8/11.1 MB 9.5 MB/s eta 0:00:01\n",
      "   --------------------------- ------------ 7.6/11.1 MB 9.2 MB/s eta 0:00:01\n",
      "   ---------------------------------- ----- 9.7/11.1 MB 9.4 MB/s eta 0:00:01\n",
      "   ---------------------------------------- 11.1/11.1 MB 9.4 MB/s eta 0:00:00\n",
      "Downloading joblib-1.4.2-py3-none-any.whl (301 kB)\n",
      "Downloading scipy-1.15.2-cp312-cp312-win_amd64.whl (40.9 MB)\n",
      "   ---------------------------------------- 0.0/40.9 MB ? eta -:--:--\n",
      "   -- ------------------------------------- 2.1/40.9 MB 10.7 MB/s eta 0:00:04\n",
      "   ---- ----------------------------------- 4.2/40.9 MB 11.0 MB/s eta 0:00:04\n",
      "   ----- ---------------------------------- 6.0/40.9 MB 9.7 MB/s eta 0:00:04\n",
      "   ------- -------------------------------- 7.6/40.9 MB 9.0 MB/s eta 0:00:04\n",
      "   -------- ------------------------------- 8.7/40.9 MB 8.5 MB/s eta 0:00:04\n",
      "   --------- ------------------------------ 10.0/40.9 MB 8.0 MB/s eta 0:00:04\n",
      "   ----------- ---------------------------- 11.3/40.9 MB 7.7 MB/s eta 0:00:04\n",
      "   ------------ --------------------------- 12.6/40.9 MB 7.5 MB/s eta 0:00:04\n",
      "   ------------- -------------------------- 13.9/40.9 MB 7.4 MB/s eta 0:00:04\n",
      "   -------------- ------------------------- 14.9/40.9 MB 7.2 MB/s eta 0:00:04\n",
      "   --------------- ------------------------ 15.7/40.9 MB 6.9 MB/s eta 0:00:04\n",
      "   ---------------- ----------------------- 16.5/40.9 MB 6.6 MB/s eta 0:00:04\n",
      "   ---------------- ----------------------- 17.3/40.9 MB 6.3 MB/s eta 0:00:04\n",
      "   ----------------- ---------------------- 17.8/40.9 MB 6.1 MB/s eta 0:00:04\n",
      "   ----------------- ---------------------- 18.1/40.9 MB 5.9 MB/s eta 0:00:04\n",
      "   ------------------ --------------------- 18.6/40.9 MB 5.5 MB/s eta 0:00:05\n",
      "   ------------------ --------------------- 18.9/40.9 MB 5.3 MB/s eta 0:00:05\n",
      "   ------------------ --------------------- 19.1/40.9 MB 5.2 MB/s eta 0:00:05\n",
      "   ------------------- -------------------- 19.7/40.9 MB 4.9 MB/s eta 0:00:05\n",
      "   ------------------- -------------------- 20.2/40.9 MB 4.8 MB/s eta 0:00:05\n",
      "   ------------------- -------------------- 20.4/40.9 MB 4.7 MB/s eta 0:00:05\n",
      "   -------------------- ------------------- 21.2/40.9 MB 4.5 MB/s eta 0:00:05\n",
      "   --------------------- ------------------ 21.8/40.9 MB 4.5 MB/s eta 0:00:05\n",
      "   --------------------- ------------------ 22.0/40.9 MB 4.4 MB/s eta 0:00:05\n",
      "   ---------------------- ----------------- 22.8/40.9 MB 4.3 MB/s eta 0:00:05\n",
      "   ---------------------- ----------------- 23.3/40.9 MB 4.3 MB/s eta 0:00:05\n",
      "   ----------------------- ---------------- 24.1/40.9 MB 4.2 MB/s eta 0:00:05\n",
      "   ------------------------ --------------- 24.6/40.9 MB 4.2 MB/s eta 0:00:04\n",
      "   ------------------------ --------------- 25.2/40.9 MB 4.1 MB/s eta 0:00:04\n",
      "   ------------------------ --------------- 25.4/40.9 MB 4.0 MB/s eta 0:00:04\n",
      "   ------------------------- -------------- 26.0/40.9 MB 4.0 MB/s eta 0:00:04\n",
      "   ------------------------- -------------- 26.5/40.9 MB 3.9 MB/s eta 0:00:04\n",
      "   -------------------------- ------------- 27.0/40.9 MB 3.9 MB/s eta 0:00:04\n",
      "   -------------------------- ------------- 27.5/40.9 MB 3.8 MB/s eta 0:00:04\n",
      "   --------------------------- ------------ 28.0/40.9 MB 3.8 MB/s eta 0:00:04\n",
      "   ---------------------------- ----------- 28.8/40.9 MB 3.8 MB/s eta 0:00:04\n",
      "   ---------------------------- ----------- 29.4/40.9 MB 3.7 MB/s eta 0:00:04\n",
      "   ----------------------------- ---------- 30.1/40.9 MB 3.7 MB/s eta 0:00:03\n",
      "   ------------------------------ --------- 30.9/40.9 MB 3.7 MB/s eta 0:00:03\n",
      "   ------------------------------ --------- 31.7/40.9 MB 3.7 MB/s eta 0:00:03\n",
      "   ------------------------------- -------- 32.5/40.9 MB 3.7 MB/s eta 0:00:03\n",
      "   -------------------------------- ------- 33.3/40.9 MB 3.7 MB/s eta 0:00:03\n",
      "   --------------------------------- ------ 34.1/40.9 MB 3.7 MB/s eta 0:00:02\n",
      "   ---------------------------------- ----- 35.1/40.9 MB 3.8 MB/s eta 0:00:02\n",
      "   ----------------------------------- ---- 35.9/40.9 MB 3.8 MB/s eta 0:00:02\n",
      "   ------------------------------------ --- 37.0/40.9 MB 3.8 MB/s eta 0:00:02\n",
      "   ------------------------------------ --- 37.7/40.9 MB 3.8 MB/s eta 0:00:01\n",
      "   ------------------------------------- -- 38.8/40.9 MB 3.8 MB/s eta 0:00:01\n",
      "   -------------------------------------- - 39.8/40.9 MB 3.8 MB/s eta 0:00:01\n",
      "   ---------------------------------------  40.6/40.9 MB 3.8 MB/s eta 0:00:01\n",
      "   ---------------------------------------- 40.9/40.9 MB 3.8 MB/s eta 0:00:00\n",
      "Downloading threadpoolctl-3.6.0-py3-none-any.whl (18 kB)\n",
      "Installing collected packages: threadpoolctl, scipy, joblib, scikit-learn\n",
      "Successfully installed joblib-1.4.2 scikit-learn-1.6.1 scipy-1.15.2 threadpoolctl-3.6.0\n",
      "Collecting nltk\n",
      "  Downloading nltk-3.9.1-py3-none-any.whl.metadata (2.9 kB)\n",
      "Collecting click (from nltk)\n",
      "  Downloading click-8.1.8-py3-none-any.whl.metadata (2.3 kB)\n",
      "Requirement already satisfied: joblib in .\\env\\lib\\site-packages (from nltk) (1.4.2)\n",
      "Collecting regex>=2021.8.3 (from nltk)\n",
      "  Downloading regex-2024.11.6-cp312-cp312-win_amd64.whl.metadata (41 kB)\n",
      "Collecting tqdm (from nltk)\n",
      "  Downloading tqdm-4.67.1-py3-none-any.whl.metadata (57 kB)\n",
      "Requirement already satisfied: colorama in .\\env\\lib\\site-packages (from click->nltk) (0.4.6)\n",
      "Downloading nltk-3.9.1-py3-none-any.whl (1.5 MB)\n",
      "   ---------------------------------------- 0.0/1.5 MB ? eta -:--:--\n",
      "   ---------------------------------------- 1.5/1.5 MB 9.9 MB/s eta 0:00:00\n",
      "Downloading regex-2024.11.6-cp312-cp312-win_amd64.whl (273 kB)\n",
      "Downloading click-8.1.8-py3-none-any.whl (98 kB)\n",
      "Downloading tqdm-4.67.1-py3-none-any.whl (78 kB)\n",
      "Installing collected packages: tqdm, regex, click, nltk\n",
      "Successfully installed click-8.1.8 nltk-3.9.1 regex-2024.11.6 tqdm-4.67.1\n"
     ]
    }
   ],
   "source": [
    "! pip install scikit-learn\n",
    "! pip install nltk"
   ]
  },
  {
   "cell_type": "code",
   "execution_count": null,
   "id": "dde42493",
   "metadata": {},
   "outputs": [],
   "source": []
  }
 ],
 "metadata": {
  "kernelspec": {
   "display_name": "env",
   "language": "python",
   "name": "python3"
  },
  "language_info": {
   "codemirror_mode": {
    "name": "ipython",
    "version": 3
   },
   "file_extension": ".py",
   "mimetype": "text/x-python",
   "name": "python",
   "nbconvert_exporter": "python",
   "pygments_lexer": "ipython3",
   "version": "3.12.0"
  }
 },
 "nbformat": 4,
 "nbformat_minor": 5
}
