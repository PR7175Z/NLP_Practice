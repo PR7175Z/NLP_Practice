{
 "cells": [
  {
   "cell_type": "code",
   "execution_count": 1,
   "metadata": {},
   "outputs": [
    {
     "name": "stdout",
     "output_type": "stream",
     "text": [
      "Collecting numpy\n",
      "  Obtaining dependency information for numpy from https://files.pythonhosted.org/packages/46/69/8c4f928741c2a8efa255fdc7e9097527c6dc4e4df147e3cadc5d9357ce85/numpy-2.2.4-cp312-cp312-win_amd64.whl.metadata\n",
      "  Using cached numpy-2.2.4-cp312-cp312-win_amd64.whl.metadata (60 kB)\n",
      "Using cached numpy-2.2.4-cp312-cp312-win_amd64.whl (12.6 MB)\n",
      "Installing collected packages: numpy\n",
      "Successfully installed numpy-2.2.4\n"
     ]
    },
    {
     "name": "stderr",
     "output_type": "stream",
     "text": [
      "\n",
      "[notice] A new release of pip is available: 23.2.1 -> 25.0.1\n",
      "[notice] To update, run: python.exe -m pip install --upgrade pip\n"
     ]
    },
    {
     "name": "stdout",
     "output_type": "stream",
     "text": [
      "Collecting pandas\n",
      "  Obtaining dependency information for pandas from https://files.pythonhosted.org/packages/29/d4/1244ab8edf173a10fd601f7e13b9566c1b525c4f365d6bee918e68381889/pandas-2.2.3-cp312-cp312-win_amd64.whl.metadata\n",
      "  Using cached pandas-2.2.3-cp312-cp312-win_amd64.whl.metadata (19 kB)\n",
      "Requirement already satisfied: numpy>=1.26.0 in .\\env\\lib\\site-packages (from pandas) (2.2.4)\n",
      "Requirement already satisfied: python-dateutil>=2.8.2 in .\\env\\lib\\site-packages (from pandas) (2.9.0.post0)\n",
      "Collecting pytz>=2020.1 (from pandas)\n",
      "  Obtaining dependency information for pytz>=2020.1 from https://files.pythonhosted.org/packages/81/c4/34e93fe5f5429d7570ec1fa436f1986fb1f00c3e0f43a589fe2bbcd22c3f/pytz-2025.2-py2.py3-none-any.whl.metadata\n",
      "  Using cached pytz-2025.2-py2.py3-none-any.whl.metadata (22 kB)\n",
      "Collecting tzdata>=2022.7 (from pandas)\n",
      "  Obtaining dependency information for tzdata>=2022.7 from https://files.pythonhosted.org/packages/5c/23/c7abc0ca0a1526a0774eca151daeb8de62ec457e77262b66b359c3c7679e/tzdata-2025.2-py2.py3-none-any.whl.metadata\n",
      "  Using cached tzdata-2025.2-py2.py3-none-any.whl.metadata (1.4 kB)\n",
      "Requirement already satisfied: six>=1.5 in .\\env\\lib\\site-packages (from python-dateutil>=2.8.2->pandas) (1.17.0)\n",
      "Using cached pandas-2.2.3-cp312-cp312-win_amd64.whl (11.5 MB)\n",
      "Using cached pytz-2025.2-py2.py3-none-any.whl (509 kB)\n",
      "Using cached tzdata-2025.2-py2.py3-none-any.whl (347 kB)\n",
      "Installing collected packages: pytz, tzdata, pandas\n",
      "Successfully installed pandas-2.2.3 pytz-2025.2 tzdata-2025.2\n"
     ]
    },
    {
     "name": "stderr",
     "output_type": "stream",
     "text": [
      "\n",
      "[notice] A new release of pip is available: 23.2.1 -> 25.0.1\n",
      "[notice] To update, run: python.exe -m pip install --upgrade pip\n"
     ]
    },
    {
     "name": "stdout",
     "output_type": "stream",
     "text": [
      "Collecting matplotlib\n",
      "  Obtaining dependency information for matplotlib from https://files.pythonhosted.org/packages/a6/b6/a9405484fb40746fdc6ae4502b16a9d6e53282ba5baaf9ebe2da579f68c4/matplotlib-3.10.1-cp312-cp312-win_amd64.whl.metadata\n",
      "  Using cached matplotlib-3.10.1-cp312-cp312-win_amd64.whl.metadata (11 kB)\n",
      "Collecting contourpy>=1.0.1 (from matplotlib)\n",
      "  Obtaining dependency information for contourpy>=1.0.1 from https://files.pythonhosted.org/packages/a1/35/c2de8823211d07e8a79ab018ef03960716c5dff6f4d5bff5af87fd682992/contourpy-1.3.1-cp312-cp312-win_amd64.whl.metadata\n",
      "  Using cached contourpy-1.3.1-cp312-cp312-win_amd64.whl.metadata (5.4 kB)\n",
      "Collecting cycler>=0.10 (from matplotlib)\n",
      "  Obtaining dependency information for cycler>=0.10 from https://files.pythonhosted.org/packages/e7/05/c19819d5e3d95294a6f5947fb9b9629efb316b96de511b418c53d245aae6/cycler-0.12.1-py3-none-any.whl.metadata\n",
      "  Using cached cycler-0.12.1-py3-none-any.whl.metadata (3.8 kB)\n",
      "Collecting fonttools>=4.22.0 (from matplotlib)\n",
      "  Obtaining dependency information for fonttools>=4.22.0 from https://files.pythonhosted.org/packages/6f/e3/5a181a85777f7809076e51f7422e0dc77eb04676c40ec8bf6a49d390d1ff/fonttools-4.56.0-cp312-cp312-win_amd64.whl.metadata\n",
      "  Using cached fonttools-4.56.0-cp312-cp312-win_amd64.whl.metadata (103 kB)\n",
      "Collecting kiwisolver>=1.3.1 (from matplotlib)\n",
      "  Obtaining dependency information for kiwisolver>=1.3.1 from https://files.pythonhosted.org/packages/bd/72/dfff0cc97f2a0776e1c9eb5bef1ddfd45f46246c6533b0191887a427bca5/kiwisolver-1.4.8-cp312-cp312-win_amd64.whl.metadata\n",
      "  Using cached kiwisolver-1.4.8-cp312-cp312-win_amd64.whl.metadata (6.3 kB)\n",
      "Requirement already satisfied: numpy>=1.23 in .\\env\\lib\\site-packages (from matplotlib) (2.2.4)\n",
      "Requirement already satisfied: packaging>=20.0 in .\\env\\lib\\site-packages (from matplotlib) (24.2)\n",
      "Collecting pillow>=8 (from matplotlib)\n",
      "  Obtaining dependency information for pillow>=8 from https://files.pythonhosted.org/packages/ec/fb/d878e8bfedfd6c959b408088cb98c337f143b0db9758c07bcc57c1192f98/pillow-11.2.0-cp312-cp312-win_amd64.whl.metadata\n",
      "  Downloading pillow-11.2.0-cp312-cp312-win_amd64.whl.metadata (9.2 kB)\n",
      "Collecting pyparsing>=2.3.1 (from matplotlib)\n",
      "  Obtaining dependency information for pyparsing>=2.3.1 from https://files.pythonhosted.org/packages/05/e7/df2285f3d08fee213f2d041540fa4fc9ca6c2d44cf36d3a035bf2a8d2bcc/pyparsing-3.2.3-py3-none-any.whl.metadata\n",
      "  Using cached pyparsing-3.2.3-py3-none-any.whl.metadata (5.0 kB)\n",
      "Requirement already satisfied: python-dateutil>=2.7 in .\\env\\lib\\site-packages (from matplotlib) (2.9.0.post0)\n",
      "Requirement already satisfied: six>=1.5 in .\\env\\lib\\site-packages (from python-dateutil>=2.7->matplotlib) (1.17.0)\n",
      "Using cached matplotlib-3.10.1-cp312-cp312-win_amd64.whl (8.1 MB)\n",
      "Using cached contourpy-1.3.1-cp312-cp312-win_amd64.whl (220 kB)\n",
      "Using cached cycler-0.12.1-py3-none-any.whl (8.3 kB)\n",
      "Using cached fonttools-4.56.0-cp312-cp312-win_amd64.whl (2.2 MB)\n",
      "Using cached kiwisolver-1.4.8-cp312-cp312-win_amd64.whl (71 kB)\n",
      "Downloading pillow-11.2.0-cp312-cp312-win_amd64.whl (13.8 MB)\n",
      "   ---------------------------------------- 0.0/13.8 MB ? eta -:--:--\n",
      "   ---------------------------------------- 0.0/13.8 MB ? eta -:--:--\n",
      "   ---------------------------------------- 0.0/13.8 MB 435.7 kB/s eta 0:00:32\n",
      "   ---------------------------------------- 0.1/13.8 MB 1.0 MB/s eta 0:00:14\n",
      "   - -------------------------------------- 0.4/13.8 MB 2.4 MB/s eta 0:00:06\n",
      "   -- ------------------------------------- 0.9/13.8 MB 4.7 MB/s eta 0:00:03\n",
      "   --- ------------------------------------ 1.1/13.8 MB 5.1 MB/s eta 0:00:03\n",
      "   ----- ---------------------------------- 2.0/13.8 MB 7.6 MB/s eta 0:00:02\n",
      "   -------- ------------------------------- 2.9/13.8 MB 9.9 MB/s eta 0:00:02\n",
      "   ------------ --------------------------- 4.4/13.8 MB 12.3 MB/s eta 0:00:01\n",
      "   -------------- ------------------------- 5.1/13.8 MB 13.1 MB/s eta 0:00:01\n",
      "   ---------------- ----------------------- 5.6/13.8 MB 13.2 MB/s eta 0:00:01\n",
      "   ------------------ --------------------- 6.3/13.8 MB 13.3 MB/s eta 0:00:01\n",
      "   -------------------- ------------------- 7.0/13.8 MB 12.7 MB/s eta 0:00:01\n",
      "   --------------------- ------------------ 7.3/13.8 MB 12.6 MB/s eta 0:00:01\n",
      "   ---------------------- ----------------- 7.8/13.8 MB 12.4 MB/s eta 0:00:01\n",
      "   ----------------------- ---------------- 8.2/13.8 MB 12.4 MB/s eta 0:00:01\n",
      "   ------------------------ --------------- 8.3/13.8 MB 12.1 MB/s eta 0:00:01\n",
      "   ------------------------- -------------- 8.8/13.8 MB 11.8 MB/s eta 0:00:01\n",
      "   -------------------------- ------------- 9.1/13.8 MB 11.4 MB/s eta 0:00:01\n",
      "   --------------------------- ------------ 9.4/13.8 MB 11.1 MB/s eta 0:00:01\n",
      "   --------------------------- ------------ 9.6/13.8 MB 11.0 MB/s eta 0:00:01\n",
      "   ---------------------------- ----------- 9.9/13.8 MB 10.8 MB/s eta 0:00:01\n",
      "   ----------------------------- ---------- 10.1/13.8 MB 10.4 MB/s eta 0:00:01\n",
      "   ----------------------------- ---------- 10.3/13.8 MB 10.9 MB/s eta 0:00:01\n",
      "   ------------------------------ --------- 10.5/13.8 MB 11.3 MB/s eta 0:00:01\n",
      "   ------------------------------- -------- 10.7/13.8 MB 10.9 MB/s eta 0:00:01\n",
      "   ------------------------------- -------- 10.9/13.8 MB 10.9 MB/s eta 0:00:01\n",
      "   -------------------------------- ------- 11.1/13.8 MB 10.2 MB/s eta 0:00:01\n",
      "   -------------------------------- ------- 11.3/13.8 MB 10.1 MB/s eta 0:00:01\n",
      "   -------------------------------- ------- 11.4/13.8 MB 9.9 MB/s eta 0:00:01\n",
      "   --------------------------------- ------ 11.6/13.8 MB 9.6 MB/s eta 0:00:01\n",
      "   --------------------------------- ------ 11.7/13.8 MB 9.2 MB/s eta 0:00:01\n",
      "   ---------------------------------- ----- 11.8/13.8 MB 9.0 MB/s eta 0:00:01\n",
      "   ---------------------------------- ----- 11.9/13.8 MB 8.6 MB/s eta 0:00:01\n",
      "   ---------------------------------- ----- 12.0/13.8 MB 8.3 MB/s eta 0:00:01\n",
      "   ---------------------------------- ----- 12.0/13.8 MB 8.2 MB/s eta 0:00:01\n",
      "   ----------------------------------- ---- 12.2/13.8 MB 7.8 MB/s eta 0:00:01\n",
      "   ----------------------------------- ---- 12.3/13.8 MB 7.5 MB/s eta 0:00:01\n",
      "   ----------------------------------- ---- 12.3/13.8 MB 7.4 MB/s eta 0:00:01\n",
      "   ----------------------------------- ---- 12.4/13.8 MB 7.2 MB/s eta 0:00:01\n",
      "   ------------------------------------ --- 12.5/13.8 MB 7.0 MB/s eta 0:00:01\n",
      "   ------------------------------------ --- 12.6/13.8 MB 6.8 MB/s eta 0:00:01\n",
      "   ------------------------------------ --- 12.6/13.8 MB 6.5 MB/s eta 0:00:01\n",
      "   ------------------------------------ --- 12.7/13.8 MB 6.4 MB/s eta 0:00:01\n",
      "   ------------------------------------- -- 12.8/13.8 MB 6.2 MB/s eta 0:00:01\n",
      "   ------------------------------------- -- 12.9/13.8 MB 6.1 MB/s eta 0:00:01\n",
      "   ------------------------------------- -- 13.0/13.8 MB 6.0 MB/s eta 0:00:01\n",
      "   ------------------------------------- -- 13.1/13.8 MB 5.8 MB/s eta 0:00:01\n",
      "   -------------------------------------- - 13.2/13.8 MB 5.8 MB/s eta 0:00:01\n",
      "   -------------------------------------- - 13.3/13.8 MB 5.6 MB/s eta 0:00:01\n",
      "   -------------------------------------- - 13.4/13.8 MB 5.5 MB/s eta 0:00:01\n",
      "   ---------------------------------------  13.5/13.8 MB 5.4 MB/s eta 0:00:01\n",
      "   ---------------------------------------  13.5/13.8 MB 5.2 MB/s eta 0:00:01\n",
      "   ---------------------------------------  13.6/13.8 MB 5.2 MB/s eta 0:00:01\n",
      "   ---------------------------------------  13.7/13.8 MB 5.1 MB/s eta 0:00:01\n",
      "   ---------------------------------------  13.8/13.8 MB 4.9 MB/s eta 0:00:01\n",
      "   ---------------------------------------  13.8/13.8 MB 4.8 MB/s eta 0:00:01\n",
      "   ---------------------------------------- 13.8/13.8 MB 4.7 MB/s eta 0:00:00\n",
      "Using cached pyparsing-3.2.3-py3-none-any.whl (111 kB)\n",
      "Installing collected packages: pyparsing, pillow, kiwisolver, fonttools, cycler, contourpy, matplotlib\n",
      "Successfully installed contourpy-1.3.1 cycler-0.12.1 fonttools-4.56.0 kiwisolver-1.4.8 matplotlib-3.10.1 pillow-11.2.0 pyparsing-3.2.3\n"
     ]
    },
    {
     "name": "stderr",
     "output_type": "stream",
     "text": [
      "\n",
      "[notice] A new release of pip is available: 23.2.1 -> 25.0.1\n",
      "[notice] To update, run: python.exe -m pip install --upgrade pip\n"
     ]
    }
   ],
   "source": [
    "! pip install numpy\n",
    "! pip install pandas\n",
    "! pip install matplotlib"
   ]
  },
  {
   "cell_type": "code",
   "execution_count": null,
   "metadata": {},
   "outputs": [],
   "source": []
  }
 ],
 "metadata": {
  "kernelspec": {
   "display_name": "env",
   "language": "python",
   "name": "python3"
  },
  "language_info": {
   "codemirror_mode": {
    "name": "ipython",
    "version": 3
   },
   "file_extension": ".py",
   "mimetype": "text/x-python",
   "name": "python",
   "nbconvert_exporter": "python",
   "pygments_lexer": "ipython3",
   "version": "3.12.0"
  }
 },
 "nbformat": 4,
 "nbformat_minor": 2
}
