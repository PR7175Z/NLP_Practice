{
 "cells": [
  {
   "cell_type": "code",
   "execution_count": 1,
   "id": "25e1e142",
   "metadata": {},
   "outputs": [
    {
     "name": "stdout",
     "output_type": "stream",
     "text": [
      "Collecting numpy\n",
      "  Obtaining dependency information for numpy from https://files.pythonhosted.org/packages/8b/09/4ffb4d6cfe7ca6707336187951992bd8a8b9142cf345d87ab858d2d7636a/numpy-2.2.5-cp312-cp312-win_amd64.whl.metadata\n",
      "  Downloading numpy-2.2.5-cp312-cp312-win_amd64.whl.metadata (60 kB)\n",
      "     ---------------------------------------- 0.0/60.8 kB ? eta -:--:--\n",
      "     ------ --------------------------------- 10.2/60.8 kB ? eta -:--:--\n",
      "     ------------------- ------------------ 30.7/60.8 kB 325.1 kB/s eta 0:00:01\n",
      "     -------------------------------------- 60.8/60.8 kB 460.0 kB/s eta 0:00:00\n",
      "Downloading numpy-2.2.5-cp312-cp312-win_amd64.whl (12.6 MB)\n",
      "   ---------------------------------------- 0.0/12.6 MB ? eta -:--:--\n",
      "   ---------------------------------------- 0.1/12.6 MB 2.6 MB/s eta 0:00:05\n",
      "   - -------------------------------------- 0.3/12.6 MB 4.3 MB/s eta 0:00:03\n",
      "   --- ------------------------------------ 1.0/12.6 MB 8.2 MB/s eta 0:00:02\n",
      "   ------ --------------------------------- 2.2/12.6 MB 12.4 MB/s eta 0:00:01\n",
      "   ---------- ----------------------------- 3.5/12.6 MB 15.8 MB/s eta 0:00:01\n",
      "   -------------- ------------------------- 4.6/12.6 MB 17.4 MB/s eta 0:00:01\n",
      "   ------------------- -------------------- 6.0/12.6 MB 19.2 MB/s eta 0:00:01\n",
      "   ----------------------- ---------------- 7.4/12.6 MB 20.4 MB/s eta 0:00:01\n",
      "   -------------------------- ------------- 8.3/12.6 MB 21.3 MB/s eta 0:00:01\n",
      "   ---------------------------- ----------- 9.1/12.6 MB 20.8 MB/s eta 0:00:01\n",
      "   --------------------------------- ------ 10.5/12.6 MB 25.2 MB/s eta 0:00:01\n",
      "   ------------------------------------- -- 11.8/12.6 MB 26.2 MB/s eta 0:00:01\n",
      "   -------------------------------------- - 12.2/12.6 MB 24.2 MB/s eta 0:00:01\n",
      "   ---------------------------------------  12.6/12.6 MB 24.2 MB/s eta 0:00:01\n",
      "   ---------------------------------------- 12.6/12.6 MB 22.6 MB/s eta 0:00:00\n",
      "Installing collected packages: numpy\n",
      "Successfully installed numpy-2.2.5\n"
     ]
    },
    {
     "name": "stderr",
     "output_type": "stream",
     "text": [
      "\n",
      "[notice] A new release of pip is available: 23.2.1 -> 25.0.1\n",
      "[notice] To update, run: python.exe -m pip install --upgrade pip\n"
     ]
    }
   ],
   "source": [
    "! pip install numpy"
   ]
  },
  {
   "cell_type": "code",
   "execution_count": null,
   "id": "bd7b89f5",
   "metadata": {},
   "outputs": [],
   "source": []
  }
 ],
 "metadata": {
  "kernelspec": {
   "display_name": "env",
   "language": "python",
   "name": "python3"
  },
  "language_info": {
   "codemirror_mode": {
    "name": "ipython",
    "version": 3
   },
   "file_extension": ".py",
   "mimetype": "text/x-python",
   "name": "python",
   "nbconvert_exporter": "python",
   "pygments_lexer": "ipython3",
   "version": "3.12.0"
  }
 },
 "nbformat": 4,
 "nbformat_minor": 5
}
